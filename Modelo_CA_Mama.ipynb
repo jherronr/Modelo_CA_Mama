{
 "cells": [
  {
   "cell_type": "code",
   "execution_count": 4,
   "metadata": {},
   "outputs": [],
   "source": [
    "# conda create -n pi_env python=3.9\n",
    "# conda activate pi_env\n",
    "# pip install pandas\n",
    "# pip install seaborn\n",
    "# pip install matplotlib\n",
    "# pip install fastparquet"
   ]
  },
  {
   "cell_type": "markdown",
   "metadata": {},
   "source": [
    "## Librerías"
   ]
  },
  {
   "cell_type": "code",
   "execution_count": 63,
   "metadata": {
    "id": "nHRCMt_lufOn"
   },
   "outputs": [],
   "source": [
    "import pandas as pd\n",
    "import seaborn as sns\n",
    "import matplotlib.pyplot as plt\n",
    "import numpy as np"
   ]
  },
  {
   "cell_type": "code",
   "execution_count": 6,
   "metadata": {
    "id": "qKXArTgY2F9N"
   },
   "outputs": [],
   "source": [
    "# Option 1: Using pandas display options\n",
    "pd.options.display.float_format = '{:.6f}'.format  # Display up to 6 decimal places"
   ]
  },
  {
   "cell_type": "markdown",
   "metadata": {
    "id": "LbypSAFju0mc"
   },
   "source": [
    "Importar la base de datos"
   ]
  },
  {
   "cell_type": "code",
   "execution_count": 19,
   "metadata": {
    "colab": {
     "base_uri": "https://localhost:8080/",
     "height": 382
    },
    "id": "ZjWcCViCuzXx",
    "outputId": "bb42ccdc-f063-42b7-f651-8e93119fb4ed"
   },
   "outputs": [
    {
     "data": {
      "text/html": [
       "<div>\n",
       "<style scoped>\n",
       "    .dataframe tbody tr th:only-of-type {\n",
       "        vertical-align: middle;\n",
       "    }\n",
       "\n",
       "    .dataframe tbody tr th {\n",
       "        vertical-align: top;\n",
       "    }\n",
       "\n",
       "    .dataframe thead th {\n",
       "        text-align: right;\n",
       "    }\n",
       "</style>\n",
       "<table border=\"1\" class=\"dataframe\">\n",
       "  <thead>\n",
       "    <tr style=\"text-align: right;\">\n",
       "      <th></th>\n",
       "      <th>Afiliado_Id</th>\n",
       "      <th>Ind_Frecuencia_Licor</th>\n",
       "      <th>Sexo_Cd</th>\n",
       "      <th>Raza_Desc</th>\n",
       "      <th>Valor_IMC</th>\n",
       "      <th>Num_Edad_Menopausia</th>\n",
       "      <th>Num_Edad_Menarca</th>\n",
       "      <th>Ind_Terapia_Hormonal</th>\n",
       "      <th>Num_Birads</th>\n",
       "      <th>Ind_Ooforectomia_Bilateral</th>\n",
       "      <th>Num_Fam_Primer_Grado_Otros</th>\n",
       "      <th>Num_Fam_Segundo_Grado_Otros</th>\n",
       "      <th>Ind_Ant_Fam_Otros</th>\n",
       "      <th>Num_Fam_Primer_Grado_CAM</th>\n",
       "      <th>Num_Fam_Segundo_Grado_CAM</th>\n",
       "      <th>Ind_Ant_Fam_CAM</th>\n",
       "      <th>Ind_Ant_Radio_Torax</th>\n",
       "      <th>Edad</th>\n",
       "      <th>Ind_CAM</th>\n",
       "    </tr>\n",
       "  </thead>\n",
       "  <tbody>\n",
       "    <tr>\n",
       "      <th>0</th>\n",
       "      <td>6915312.000000</td>\n",
       "      <td>None</td>\n",
       "      <td>F</td>\n",
       "      <td>SIN INFORMACION DESDE LA FUENTE</td>\n",
       "      <td>29.010000</td>\n",
       "      <td>NaN</td>\n",
       "      <td>13.000000</td>\n",
       "      <td>No</td>\n",
       "      <td>None</td>\n",
       "      <td>No</td>\n",
       "      <td>0.000000</td>\n",
       "      <td>0.000000</td>\n",
       "      <td>No</td>\n",
       "      <td>0.000000</td>\n",
       "      <td>0.000000</td>\n",
       "      <td>No</td>\n",
       "      <td>No</td>\n",
       "      <td>34.000000</td>\n",
       "      <td>No</td>\n",
       "    </tr>\n",
       "    <tr>\n",
       "      <th>1</th>\n",
       "      <td>1520483.000000</td>\n",
       "      <td>None</td>\n",
       "      <td>F</td>\n",
       "      <td>MESTIZO</td>\n",
       "      <td>NaN</td>\n",
       "      <td>NaN</td>\n",
       "      <td>14.000000</td>\n",
       "      <td>No</td>\n",
       "      <td>None</td>\n",
       "      <td>No</td>\n",
       "      <td>0.000000</td>\n",
       "      <td>0.000000</td>\n",
       "      <td>No</td>\n",
       "      <td>0.000000</td>\n",
       "      <td>0.000000</td>\n",
       "      <td>No</td>\n",
       "      <td>No</td>\n",
       "      <td>40.000000</td>\n",
       "      <td>No</td>\n",
       "    </tr>\n",
       "    <tr>\n",
       "      <th>2</th>\n",
       "      <td>10964151.000000</td>\n",
       "      <td>Si</td>\n",
       "      <td>F</td>\n",
       "      <td>SIN INFORMACION DESDE LA FUENTE</td>\n",
       "      <td>33.010000</td>\n",
       "      <td>NaN</td>\n",
       "      <td>NaN</td>\n",
       "      <td>No</td>\n",
       "      <td>None</td>\n",
       "      <td>No</td>\n",
       "      <td>0.000000</td>\n",
       "      <td>0.000000</td>\n",
       "      <td>No</td>\n",
       "      <td>0.000000</td>\n",
       "      <td>0.000000</td>\n",
       "      <td>No</td>\n",
       "      <td>Si</td>\n",
       "      <td>41.000000</td>\n",
       "      <td>No</td>\n",
       "    </tr>\n",
       "    <tr>\n",
       "      <th>3</th>\n",
       "      <td>10814984.000000</td>\n",
       "      <td>No</td>\n",
       "      <td>F</td>\n",
       "      <td>SIN INFORMACION DESDE LA FUENTE</td>\n",
       "      <td>23.340000</td>\n",
       "      <td>NaN</td>\n",
       "      <td>NaN</td>\n",
       "      <td>No</td>\n",
       "      <td>None</td>\n",
       "      <td>No</td>\n",
       "      <td>0.000000</td>\n",
       "      <td>0.000000</td>\n",
       "      <td>No</td>\n",
       "      <td>0.000000</td>\n",
       "      <td>0.000000</td>\n",
       "      <td>No</td>\n",
       "      <td>No</td>\n",
       "      <td>25.000000</td>\n",
       "      <td>No</td>\n",
       "    </tr>\n",
       "    <tr>\n",
       "      <th>4</th>\n",
       "      <td>1301025.000000</td>\n",
       "      <td>No</td>\n",
       "      <td>F</td>\n",
       "      <td>MESTIZO</td>\n",
       "      <td>24.670000</td>\n",
       "      <td>NaN</td>\n",
       "      <td>9.000000</td>\n",
       "      <td>No</td>\n",
       "      <td>1</td>\n",
       "      <td>No</td>\n",
       "      <td>0.000000</td>\n",
       "      <td>0.000000</td>\n",
       "      <td>No</td>\n",
       "      <td>0.000000</td>\n",
       "      <td>0.000000</td>\n",
       "      <td>No</td>\n",
       "      <td>No</td>\n",
       "      <td>61.000000</td>\n",
       "      <td>No</td>\n",
       "    </tr>\n",
       "  </tbody>\n",
       "</table>\n",
       "</div>"
      ],
      "text/plain": [
       "      Afiliado_Id Ind_Frecuencia_Licor Sexo_Cd  \\\n",
       "0  6915312.000000                 None       F   \n",
       "1  1520483.000000                 None       F   \n",
       "2 10964151.000000                   Si       F   \n",
       "3 10814984.000000                   No       F   \n",
       "4  1301025.000000                   No       F   \n",
       "\n",
       "                         Raza_Desc  Valor_IMC  Num_Edad_Menopausia  \\\n",
       "0  SIN INFORMACION DESDE LA FUENTE  29.010000                  NaN   \n",
       "1                          MESTIZO        NaN                  NaN   \n",
       "2  SIN INFORMACION DESDE LA FUENTE  33.010000                  NaN   \n",
       "3  SIN INFORMACION DESDE LA FUENTE  23.340000                  NaN   \n",
       "4                          MESTIZO  24.670000                  NaN   \n",
       "\n",
       "   Num_Edad_Menarca Ind_Terapia_Hormonal Num_Birads  \\\n",
       "0         13.000000                   No       None   \n",
       "1         14.000000                   No       None   \n",
       "2               NaN                   No       None   \n",
       "3               NaN                   No       None   \n",
       "4          9.000000                   No          1   \n",
       "\n",
       "  Ind_Ooforectomia_Bilateral  Num_Fam_Primer_Grado_Otros  \\\n",
       "0                         No                    0.000000   \n",
       "1                         No                    0.000000   \n",
       "2                         No                    0.000000   \n",
       "3                         No                    0.000000   \n",
       "4                         No                    0.000000   \n",
       "\n",
       "   Num_Fam_Segundo_Grado_Otros Ind_Ant_Fam_Otros  Num_Fam_Primer_Grado_CAM  \\\n",
       "0                     0.000000                No                  0.000000   \n",
       "1                     0.000000                No                  0.000000   \n",
       "2                     0.000000                No                  0.000000   \n",
       "3                     0.000000                No                  0.000000   \n",
       "4                     0.000000                No                  0.000000   \n",
       "\n",
       "   Num_Fam_Segundo_Grado_CAM Ind_Ant_Fam_CAM Ind_Ant_Radio_Torax      Edad  \\\n",
       "0                   0.000000              No                  No 34.000000   \n",
       "1                   0.000000              No                  No 40.000000   \n",
       "2                   0.000000              No                  Si 41.000000   \n",
       "3                   0.000000              No                  No 25.000000   \n",
       "4                   0.000000              No                  No 61.000000   \n",
       "\n",
       "  Ind_CAM  \n",
       "0      No  \n",
       "1      No  \n",
       "2      No  \n",
       "3      No  \n",
       "4      No  "
      ]
     },
     "execution_count": 19,
     "metadata": {},
     "output_type": "execute_result"
    }
   ],
   "source": [
    "data_raw = pd.read_parquet(r\"..\\Modelo_CA_Mama\\Data_Ca_Mama.parquet\", engine='fastparquet')\n",
    "data_raw.head()"
   ]
  },
  {
   "cell_type": "markdown",
   "metadata": {},
   "source": [
    "# Comprensión de los datos"
   ]
  },
  {
   "cell_type": "code",
   "execution_count": 20,
   "metadata": {
    "colab": {
     "base_uri": "https://localhost:8080/"
    },
    "id": "KRzvZx_vvO6T",
    "outputId": "d43ee890-f4c5-4217-db34-043daabb8d5b"
   },
   "outputs": [
    {
     "data": {
      "text/plain": [
       "Index(['Afiliado_Id', 'Ind_Frecuencia_Licor', 'Sexo_Cd', 'Raza_Desc',\n",
       "       'Valor_IMC', 'Num_Edad_Menopausia', 'Num_Edad_Menarca',\n",
       "       'Ind_Terapia_Hormonal', 'Num_Birads', 'Ind_Ooforectomia_Bilateral',\n",
       "       'Num_Fam_Primer_Grado_Otros', 'Num_Fam_Segundo_Grado_Otros',\n",
       "       'Ind_Ant_Fam_Otros', 'Num_Fam_Primer_Grado_CAM',\n",
       "       'Num_Fam_Segundo_Grado_CAM', 'Ind_Ant_Fam_CAM', 'Ind_Ant_Radio_Torax',\n",
       "       'Edad', 'Ind_CAM'],\n",
       "      dtype='object')"
      ]
     },
     "execution_count": 20,
     "metadata": {},
     "output_type": "execute_result"
    }
   ],
   "source": [
    "# Revisar las variables que están en el DataFrame\n",
    "data_raw.columns"
   ]
  },
  {
   "cell_type": "code",
   "execution_count": 29,
   "metadata": {},
   "outputs": [
    {
     "data": {
      "text/plain": [
       "(2190213, 19)"
      ]
     },
     "execution_count": 29,
     "metadata": {},
     "output_type": "execute_result"
    }
   ],
   "source": [
    "data_raw.shape"
   ]
  },
  {
   "cell_type": "markdown",
   "metadata": {},
   "source": [
    "Se tiene un total de 2.190.279 registros, con 19 variables."
   ]
  },
  {
   "cell_type": "code",
   "execution_count": 25,
   "metadata": {},
   "outputs": [
    {
     "data": {
      "text/plain": [
       "Ind_CAM\n",
       "No    2172026\n",
       "Si      18253\n",
       "Name: count, dtype: int64"
      ]
     },
     "execution_count": 25,
     "metadata": {},
     "output_type": "execute_result"
    }
   ],
   "source": [
    "# Cantidad de registros por población sana y enferma\n",
    "data_raw.Ind_CAM.value_counts()"
   ]
  },
  {
   "cell_type": "markdown",
   "metadata": {},
   "source": [
    "- Casos positivos: 18.253 mujeres afiliadas con diagnóstico positivo de cáncer de mama.\n",
    "- Casos negativos: 2.172.026 mujeres sin diagnóstico de cáncer de mama."
   ]
  },
  {
   "cell_type": "markdown",
   "metadata": {},
   "source": [
    "## Calidad de los datos"
   ]
  },
  {
   "cell_type": "markdown",
   "metadata": {},
   "source": [
    "### Duplicidad"
   ]
  },
  {
   "cell_type": "code",
   "execution_count": 26,
   "metadata": {
    "colab": {
     "base_uri": "https://localhost:8080/"
    },
    "id": "iE9sqy-MzjrB",
    "outputId": "ce961e7c-eefc-41f2-b944-b04a4c0d4723"
   },
   "outputs": [
    {
     "name": "stdout",
     "output_type": "stream",
     "text": [
      "Número de filas duplicadas: 66\n"
     ]
    }
   ],
   "source": [
    "# Contar el número de filas duplicadas\n",
    "num_duplicated = data_raw.duplicated().sum()\n",
    "print(f\"Número de filas duplicadas: {num_duplicated}\")"
   ]
  },
  {
   "cell_type": "code",
   "execution_count": 27,
   "metadata": {
    "id": "V3JrXR-B1PWI"
   },
   "outputs": [],
   "source": [
    "# Eliminar registros duplicados\n",
    "data_raw = data_raw.drop_duplicates()"
   ]
  },
  {
   "cell_type": "markdown",
   "metadata": {},
   "source": [
    "### Completitud"
   ]
  },
  {
   "cell_type": "code",
   "execution_count": 18,
   "metadata": {
    "colab": {
     "base_uri": "https://localhost:8080/",
     "height": 290
    },
    "id": "b_Fa_SIkw-Or",
    "outputId": "66f25717-e232-40fd-e137-14f773bc93ee"
   },
   "outputs": [
    {
     "name": "stdout",
     "output_type": "stream",
     "text": [
      "Porcentaje de valores faltantes por columna:\n"
     ]
    },
    {
     "data": {
      "text/plain": [
       "Ind_Frecuencia_Licor   33.812876\n",
       "Valor_IMC              11.055957\n",
       "Num_Edad_Menopausia    98.576075\n",
       "Num_Edad_Menarca       59.428238\n",
       "Num_Birads             77.865304\n",
       "dtype: float64"
      ]
     },
     "execution_count": 18,
     "metadata": {},
     "output_type": "execute_result"
    }
   ],
   "source": [
    "# Calcular el porcentaje de valores faltantes por columna\n",
    "missing_percentage = data_raw.isnull().mean() * 100\n",
    "print('Porcentaje de valores faltantes por columna:')\n",
    "missing_percentage[missing_percentage > 0]"
   ]
  },
  {
   "cell_type": "code",
   "execution_count": null,
   "metadata": {
    "colab": {
     "base_uri": "https://localhost:8080/",
     "height": 335
    },
    "id": "5HjCKRyo1r01",
    "outputId": "df86d5fd-4883-4fde-b0e4-74f7269e89e9"
   },
   "outputs": [
    {
     "data": {
      "text/html": [
       "<div>\n",
       "<style scoped>\n",
       "    .dataframe tbody tr th:only-of-type {\n",
       "        vertical-align: middle;\n",
       "    }\n",
       "\n",
       "    .dataframe tbody tr th {\n",
       "        vertical-align: top;\n",
       "    }\n",
       "\n",
       "    .dataframe thead th {\n",
       "        text-align: right;\n",
       "    }\n",
       "</style>\n",
       "<table border=\"1\" class=\"dataframe\">\n",
       "  <thead>\n",
       "    <tr style=\"text-align: right;\">\n",
       "      <th></th>\n",
       "      <th>Edad</th>\n",
       "    </tr>\n",
       "  </thead>\n",
       "  <tbody>\n",
       "    <tr>\n",
       "      <th>count</th>\n",
       "      <td>2190213.000000</td>\n",
       "    </tr>\n",
       "    <tr>\n",
       "      <th>mean</th>\n",
       "      <td>43.159533</td>\n",
       "    </tr>\n",
       "    <tr>\n",
       "      <th>std</th>\n",
       "      <td>16.741093</td>\n",
       "    </tr>\n",
       "    <tr>\n",
       "      <th>min</th>\n",
       "      <td>18.000000</td>\n",
       "    </tr>\n",
       "    <tr>\n",
       "      <th>25%</th>\n",
       "      <td>29.000000</td>\n",
       "    </tr>\n",
       "    <tr>\n",
       "      <th>50%</th>\n",
       "      <td>40.000000</td>\n",
       "    </tr>\n",
       "    <tr>\n",
       "      <th>75%</th>\n",
       "      <td>55.000000</td>\n",
       "    </tr>\n",
       "    <tr>\n",
       "      <th>max</th>\n",
       "      <td>139.000000</td>\n",
       "    </tr>\n",
       "  </tbody>\n",
       "</table>\n",
       "</div><br><label><b>dtype:</b> float64</label>"
      ],
      "text/plain": [
       "count   2190213.000000\n",
       "mean         43.159533\n",
       "std          16.741093\n",
       "min          18.000000\n",
       "25%          29.000000\n",
       "50%          40.000000\n",
       "75%          55.000000\n",
       "max         139.000000\n",
       "Name: Edad, dtype: float64"
      ]
     },
     "execution_count": 47,
     "metadata": {},
     "output_type": "execute_result"
    }
   ],
   "source": [
    "data_raw.Edad.describe()"
   ]
  },
  {
   "cell_type": "markdown",
   "metadata": {
    "id": "xQWJN2Rk3KB5"
   },
   "source": [
    "Se puede apreciar que 98,58% de los registros de la variable edad de menopausia se encuentra vacío. Sin embargo, dado que el 75% de las mujeres en el dataset tienen una edad igual o inferior a los 55 años, el registro es coherente ya que la menopausia es un proceso natural que suele ocurrir entre los 45 y 55 años de edad, aunque la edad promedio es de 51 años."
   ]
  },
  {
   "cell_type": "markdown",
   "metadata": {},
   "source": [
    "### Conformidad"
   ]
  },
  {
   "cell_type": "code",
   "execution_count": 28,
   "metadata": {},
   "outputs": [
    {
     "data": {
      "text/plain": [
       "Afiliado_Id                    float64\n",
       "Ind_Frecuencia_Licor            object\n",
       "Sexo_Cd                         object\n",
       "Raza_Desc                       object\n",
       "Valor_IMC                      float64\n",
       "Num_Edad_Menopausia            float64\n",
       "Num_Edad_Menarca               float64\n",
       "Ind_Terapia_Hormonal            object\n",
       "Num_Birads                      object\n",
       "Ind_Ooforectomia_Bilateral      object\n",
       "Num_Fam_Primer_Grado_Otros     float64\n",
       "Num_Fam_Segundo_Grado_Otros    float64\n",
       "Ind_Ant_Fam_Otros               object\n",
       "Num_Fam_Primer_Grado_CAM       float64\n",
       "Num_Fam_Segundo_Grado_CAM      float64\n",
       "Ind_Ant_Fam_CAM                 object\n",
       "Ind_Ant_Radio_Torax             object\n",
       "Edad                           float64\n",
       "Ind_CAM                         object\n",
       "dtype: object"
      ]
     },
     "execution_count": 28,
     "metadata": {},
     "output_type": "execute_result"
    }
   ],
   "source": [
    "# Revisión general del tipo de datos\n",
    "data_raw.dtypes"
   ]
  },
  {
   "cell_type": "code",
   "execution_count": 48,
   "metadata": {},
   "outputs": [],
   "source": [
    "data_raw.Afiliado_Id = data_raw.Afiliado_Id.astype('int')\n",
    "data_raw.Num_Edad_Menarca = data_raw.Num_Edad_Menarca.astype('int', errors= 'ignore')\n",
    "data_raw.Num_Edad_Menopausia = data_raw.Num_Edad_Menopausia.astype('int', errors= 'ignore')\n",
    "data_raw.Num_Fam_Primer_Grado_Otros = data_raw.Num_Fam_Primer_Grado_Otros.astype('int', errors= 'ignore')\n",
    "data_raw.Num_Fam_Segundo_Grado_Otros = data_raw.Num_Fam_Segundo_Grado_Otros.astype('int', errors= 'ignore')\n",
    "data_raw.Num_Fam_Primer_Grado_CAM = data_raw.Num_Fam_Primer_Grado_CAM.astype('int', errors= 'ignore')\n",
    "data_raw.Num_Fam_Segundo_Grado_CAM = data_raw.Num_Fam_Segundo_Grado_CAM.astype('int', errors= 'ignore')\n",
    "data_raw.Edad = data_raw.Edad.astype('int', errors= 'ignore')"
   ]
  },
  {
   "cell_type": "markdown",
   "metadata": {},
   "source": [
    "Se decide cambiar los datos numericos de float64 a int, exceptuando el Valor de IMC."
   ]
  },
  {
   "cell_type": "markdown",
   "metadata": {},
   "source": [
    "Lo siguiente, sería analizar que las categorías de las variables categorícas se encuentren bien."
   ]
  },
  {
   "cell_type": "code",
   "execution_count": 49,
   "metadata": {},
   "outputs": [
    {
     "name": "stdout",
     "output_type": "stream",
     "text": [
      "Categorías en la columna Ind_Frecuencia_Licor:\n",
      "[None 'Si' 'No']\n",
      "Categorías en la columna Sexo_Cd:\n",
      "['F']\n",
      "Categorías en la columna Raza_Desc:\n",
      "['SIN INFORMACION DESDE LA FUENTE' 'MESTIZO' 'BLANCO' 'AFROAMERICANO'\n",
      " 'MULATO' 'ZAMBO' 'INDÍGENA']\n",
      "Categorías en la columna Ind_Terapia_Hormonal:\n",
      "['No' 'Si']\n",
      "Categorías en la columna Num_Birads:\n",
      "[None '1' 'BIRA' '2' '0' '4' '3' '6' 'BI-R' 'BI R' 'CATE' '5' 'BI -'\n",
      " 'CLAS']\n",
      "Categorías en la columna Ind_Ooforectomia_Bilateral:\n",
      "['No' 'Si']\n",
      "Categorías en la columna Ind_Ant_Fam_Otros:\n",
      "['No' 'Si']\n",
      "Categorías en la columna Ind_Ant_Fam_CAM:\n",
      "['No' 'Si']\n",
      "Categorías en la columna Ind_Ant_Radio_Torax:\n",
      "['No' 'Si']\n",
      "Categorías en la columna Ind_CAM:\n",
      "['No' 'Si']\n"
     ]
    }
   ],
   "source": [
    "for column in data_raw.select_dtypes(include=['object']):\n",
    "    print(f\"Categorías en la columna {column}:\")\n",
    "    print(data_raw[column].unique())"
   ]
  },
  {
   "cell_type": "markdown",
   "metadata": {},
   "source": [
    "En general, las categorías de las variables categoricas se encuentran bien. Para la variable raza se encuentra la categoría 'SIN INFORMACION DESDE LA FUENTE' la cual debe ser eliminada ya que no corresponde a una categoría permitida. Por otro lado, en la variable Num_Birads también se encuentran categorías no permitidas como: 'BIRA', 'BI-R', 'BI R', 'CATE', 'BI -', 'CLAS'. Se decide limpiar estas categorías en los registros que aparecen."
   ]
  },
  {
   "cell_type": "code",
   "execution_count": 54,
   "metadata": {},
   "outputs": [],
   "source": [
    "# Función para verificar si un valor de BI-RADS es válido\n",
    "def es_birads_valido(valor):\n",
    "    try:\n",
    "        valor_int = int(valor)\n",
    "        return 0 <= valor_int <= 6\n",
    "    except:\n",
    "        return False"
   ]
  },
  {
   "cell_type": "code",
   "execution_count": 64,
   "metadata": {},
   "outputs": [],
   "source": [
    "# Aplicar la función a la columna y reemplazar los valores no válidos por Na\n",
    "data_raw['Num_Birads'] = data_raw['Num_Birads'].apply(lambda x: x if es_birads_valido(x) else np.nan)"
   ]
  },
  {
   "cell_type": "code",
   "execution_count": 66,
   "metadata": {},
   "outputs": [],
   "source": [
    "# Aplicar la función a la columna y reemplazar los valores no válidos por Na\n",
    "data_raw.Raza_Desc = data_raw.Raza_Desc.replace('SIN INFORMACION DESDE LA FUENTE', np.nan)"
   ]
  },
  {
   "cell_type": "code",
   "execution_count": 67,
   "metadata": {},
   "outputs": [
    {
     "name": "stdout",
     "output_type": "stream",
     "text": [
      "Categorías en la columna Ind_Frecuencia_Licor:\n",
      "[None 'Si' 'No']\n",
      "Categorías en la columna Sexo_Cd:\n",
      "['F']\n",
      "Categorías en la columna Raza_Desc:\n",
      "[nan 'MESTIZO' 'BLANCO' 'AFROAMERICANO' 'MULATO' 'ZAMBO' 'INDÍGENA']\n",
      "Categorías en la columna Ind_Terapia_Hormonal:\n",
      "['No' 'Si']\n",
      "Categorías en la columna Num_Birads:\n",
      "[nan '1' '2' '0' '4' '3' '6' '5']\n",
      "Categorías en la columna Ind_Ooforectomia_Bilateral:\n",
      "['No' 'Si']\n",
      "Categorías en la columna Ind_Ant_Fam_Otros:\n",
      "['No' 'Si']\n",
      "Categorías en la columna Ind_Ant_Fam_CAM:\n",
      "['No' 'Si']\n",
      "Categorías en la columna Ind_Ant_Radio_Torax:\n",
      "['No' 'Si']\n",
      "Categorías en la columna Ind_CAM:\n",
      "['No' 'Si']\n"
     ]
    }
   ],
   "source": [
    "for column in data_raw.select_dtypes(include=['object']):\n",
    "    print(f\"Categorías en la columna {column}:\")\n",
    "    print(data_raw[column].unique())"
   ]
  },
  {
   "cell_type": "markdown",
   "metadata": {},
   "source": [
    "Ahora, se analiza que la edad de la menopausia sea mayor que la edad de la menarca."
   ]
  },
  {
   "cell_type": "code",
   "execution_count": 68,
   "metadata": {},
   "outputs": [
    {
     "name": "stdout",
     "output_type": "stream",
     "text": [
      "Registros con inconsistencia en edades de menarca y menopausia: 0\n"
     ]
    }
   ],
   "source": [
    "# Edad de menarca debe ser menor que edad de menopausia\n",
    "edad_inconsistente = data_raw[data_raw['Num_Edad_Menopausia'] <= data_raw['Num_Edad_Menarca']]\n",
    "print(f\"Registros con inconsistencia en edades de menarca y menopausia: {len(edad_inconsistente)}\")"
   ]
  },
  {
   "cell_type": "code",
   "execution_count": 71,
   "metadata": {},
   "outputs": [
    {
     "name": "stdout",
     "output_type": "stream",
     "text": [
      "Registros con inconsistencia en edades de menarca y edad: 0\n"
     ]
    }
   ],
   "source": [
    "# Edad de menarca debe ser menor que edad de menopausia\n",
    "edad_inconsistente = data_raw[data_raw['Edad'] <= data_raw['Num_Edad_Menarca']]\n",
    "print(f\"Registros con inconsistencia en edades de menarca y edad: {len(edad_inconsistente)}\")"
   ]
  },
  {
   "cell_type": "code",
   "execution_count": 78,
   "metadata": {},
   "outputs": [
    {
     "name": "stdout",
     "output_type": "stream",
     "text": [
      "Registros con inconsistencia en edades de menopausia y edad: 3\n"
     ]
    }
   ],
   "source": [
    "# Edad de menarca debe ser menor que edad de menopausia\n",
    "edad_inconsistente = data_raw[data_raw['Edad'] < data_raw['Num_Edad_Menopausia']]\n",
    "print(f\"Registros con inconsistencia en edades de menopausia y edad: {len(edad_inconsistente)}\")"
   ]
  },
  {
   "cell_type": "code",
   "execution_count": 86,
   "metadata": {},
   "outputs": [],
   "source": [
    "condicion_inconsistente = data_raw['Num_Edad_Menopausia'] > data_raw['Edad']"
   ]
  },
  {
   "cell_type": "code",
   "execution_count": 88,
   "metadata": {},
   "outputs": [
    {
     "data": {
      "text/plain": [
       "(2190210, 19)"
      ]
     },
     "execution_count": 88,
     "metadata": {},
     "output_type": "execute_result"
    }
   ],
   "source": [
    "# Invertir la condición para obtener los registros consistentes\n",
    "data_raw = data_raw[~condicion_inconsistente]\n",
    "data_raw.shape"
   ]
  },
  {
   "cell_type": "markdown",
   "metadata": {},
   "source": [
    "### Precisión"
   ]
  },
  {
   "cell_type": "markdown",
   "metadata": {},
   "source": [
    "Verificar si los datos son correctos y representan fielmente la realidad."
   ]
  },
  {
   "cell_type": "code",
   "execution_count": 90,
   "metadata": {},
   "outputs": [
    {
     "name": "stdout",
     "output_type": "stream",
     "text": [
      "Categorías en la columna Afiliado_Id:\n",
      "[ 6915312  1520483 10964151 ...  1274761  4612105  1423928]\n",
      "Categorías en la columna Valor_IMC:\n",
      "[29.01               nan 33.01       ... 29.93056859 51.48\n",
      " 39.17092768]\n",
      "Categorías en la columna Num_Edad_Menopausia:\n",
      "[nan 50. 56. 52. 53. 45. 48. 39. 37. 51. 55. 46. 38. 40. 54. 47. 49. 36.\n",
      " 44. 43. 41. 57. 42.]\n",
      "Categorías en la columna Num_Edad_Menarca:\n",
      "[13. 14. nan  9. 12. 15. 11. 10. 16. 17.]\n",
      "Categorías en la columna Num_Fam_Primer_Grado_Otros:\n",
      "[0 1 2 3 4]\n",
      "Categorías en la columna Num_Fam_Segundo_Grado_Otros:\n",
      "[0 1 2 3]\n",
      "Categorías en la columna Num_Fam_Primer_Grado_CAM:\n",
      "[0 1 2]\n",
      "Categorías en la columna Num_Fam_Segundo_Grado_CAM:\n",
      "[0 1 2]\n",
      "Categorías en la columna Edad:\n",
      "[ 34  40  41  25  61  86  60  24  32  78  30  51  26  74  58  47  55  23\n",
      "  35  50  39  73  27  29  18  68  67  54  63  21  37  84  53  20  59  43\n",
      "  56  64  36  31  52  38  79  48  83  62  33  44  65  45  28  93  19  81\n",
      "  42  57  22  49  66  46  69  95  71  77  82  72  80  75  70  76  88  85\n",
      "  92  87  94  90  89 100  91  97  98  99  96 104 102 103 101 105 106 107\n",
      " 112 139 109 108]\n"
     ]
    }
   ],
   "source": [
    "for column in data_raw.select_dtypes(include=['float64', 'int']):\n",
    "    print(f\"Categorías en la columna {column}:\")\n",
    "    print(data_raw[column].unique())"
   ]
  },
  {
   "cell_type": "code",
   "execution_count": 91,
   "metadata": {},
   "outputs": [
    {
     "name": "stdout",
     "output_type": "stream",
     "text": [
      "Registros con edad de menarca improbable: 0\n"
     ]
    }
   ],
   "source": [
    "# Edad de menarca improbable\n",
    "edad_menarca_improbable = data_raw[(data_raw['Num_Edad_Menarca'] < 8) | (data_raw['Num_Edad_Menarca'] > 18)]\n",
    "print(f\"Registros con edad de menarca improbable: {len(edad_menarca_improbable)}\")"
   ]
  },
  {
   "cell_type": "code",
   "execution_count": 92,
   "metadata": {},
   "outputs": [
    {
     "name": "stdout",
     "output_type": "stream",
     "text": [
      "Registros con edad de menarca improbable: 0\n"
     ]
    }
   ],
   "source": [
    "# Edad de menopausia improbable\n",
    "edad_menopausia_improbable = data_raw[(data_raw['Num_Edad_Menopausia'] < 35)]\n",
    "print(f\"Registros con edad de menarca improbable: {len(edad_menopausia_improbable)}\")"
   ]
  },
  {
   "cell_type": "markdown",
   "metadata": {},
   "source": [
    "### Consistencia"
   ]
  },
  {
   "cell_type": "markdown",
   "metadata": {},
   "source": [
    "Verificar que en los casos donde el número de familiares es diferente de 0 o None (es decir, hay al menos un familiar afectado), el indicador correspondiente sea Si, y en caso contrario, sea No."
   ]
  },
  {
   "cell_type": "code",
   "execution_count": 110,
   "metadata": {},
   "outputs": [
    {
     "name": "stderr",
     "output_type": "stream",
     "text": [
      "C:\\Users\\camil\\AppData\\Local\\Temp\\ipykernel_23836\\4091578871.py:2: SettingWithCopyWarning: \n",
      "A value is trying to be set on a copy of a slice from a DataFrame.\n",
      "Try using .loc[row_indexer,col_indexer] = value instead\n",
      "\n",
      "See the caveats in the documentation: https://pandas.pydata.org/pandas-docs/stable/user_guide/indexing.html#returning-a-view-versus-a-copy\n",
      "  data_raw['Total_Fam_Otros'] = data_raw['Num_Fam_Primer_Grado_Otros'].fillna(0) + data_raw['Num_Fam_Segundo_Grado_Otros'].fillna(0)\n",
      "C:\\Users\\camil\\AppData\\Local\\Temp\\ipykernel_23836\\4091578871.py:5: SettingWithCopyWarning: \n",
      "A value is trying to be set on a copy of a slice from a DataFrame.\n",
      "Try using .loc[row_indexer,col_indexer] = value instead\n",
      "\n",
      "See the caveats in the documentation: https://pandas.pydata.org/pandas-docs/stable/user_guide/indexing.html#returning-a-view-versus-a-copy\n",
      "  data_raw['Ind_Ant_Fam_Otros_Esperado'] = data_raw['Total_Fam_Otros'].apply(lambda x: 'Si' if x > 0 else 'No')\n"
     ]
    }
   ],
   "source": [
    "# Calcular el total de familiares con otros cánceres\n",
    "data_raw['Total_Fam_Otros'] = data_raw['Num_Fam_Primer_Grado_Otros'].fillna(0) + data_raw['Num_Fam_Segundo_Grado_Otros'].fillna(0)\n",
    "\n",
    "# Generar el indicador esperado: 1 si Total_Fam_Otros > 0, 0 si no\n",
    "data_raw['Ind_Ant_Fam_Otros_Esperado'] = data_raw['Total_Fam_Otros'].apply(lambda x: 'Si' if x > 0 else 'No')"
   ]
  },
  {
   "cell_type": "code",
   "execution_count": 112,
   "metadata": {},
   "outputs": [
    {
     "name": "stdout",
     "output_type": "stream",
     "text": [
      "Número de registros con discrepancias en 'Ind_Ant_Fam_Otros': 82192\n"
     ]
    },
    {
     "name": "stderr",
     "output_type": "stream",
     "text": [
      "C:\\Users\\camil\\AppData\\Local\\Temp\\ipykernel_23836\\1058755965.py:2: SettingWithCopyWarning: \n",
      "A value is trying to be set on a copy of a slice from a DataFrame.\n",
      "Try using .loc[row_indexer,col_indexer] = value instead\n",
      "\n",
      "See the caveats in the documentation: https://pandas.pydata.org/pandas-docs/stable/user_guide/indexing.html#returning-a-view-versus-a-copy\n",
      "  data_raw['Discrepancia_Otros'] = data_raw['Ind_Ant_Fam_Otros'] != data_raw['Ind_Ant_Fam_Otros_Esperado']\n"
     ]
    }
   ],
   "source": [
    "# Crear una columna que indique si hay discrepancia\n",
    "data_raw['Discrepancia_Otros'] = data_raw['Ind_Ant_Fam_Otros'] != data_raw['Ind_Ant_Fam_Otros_Esperado']\n",
    "\n",
    "# Identificar registros con discrepancias\n",
    "discrepancias_otros = data_raw[data_raw['Discrepancia_Otros'] == True]\n",
    "\n",
    "print(f\"Número de registros con discrepancias en 'Ind_Ant_Fam_Otros': {len(discrepancias_otros)}\")"
   ]
  },
  {
   "cell_type": "code",
   "execution_count": 114,
   "metadata": {},
   "outputs": [
    {
     "data": {
      "text/plain": [
       "Index(['Afiliado_Id', 'Ind_Frecuencia_Licor', 'Sexo_Cd', 'Raza_Desc',\n",
       "       'Valor_IMC', 'Num_Edad_Menopausia', 'Num_Edad_Menarca',\n",
       "       'Ind_Terapia_Hormonal', 'Num_Birads', 'Ind_Ooforectomia_Bilateral',\n",
       "       'Num_Fam_Primer_Grado_Otros', 'Num_Fam_Segundo_Grado_Otros',\n",
       "       'Ind_Ant_Fam_Otros', 'Num_Fam_Primer_Grado_CAM',\n",
       "       'Num_Fam_Segundo_Grado_CAM', 'Ind_Ant_Fam_CAM', 'Ind_Ant_Radio_Torax',\n",
       "       'Edad', 'Ind_CAM', 'Total_Fam_Otros', 'Ind_Ant_Fam_Otros_Esperado',\n",
       "       'Discrepancia_Otros'],\n",
       "      dtype='object')"
      ]
     },
     "execution_count": 114,
     "metadata": {},
     "output_type": "execute_result"
    }
   ],
   "source": [
    "discrepancias_otros.columns"
   ]
  },
  {
   "cell_type": "code",
   "execution_count": null,
   "metadata": {},
   "outputs": [
    {
     "data": {
      "text/plain": [
       "Ind_Ant_Fam_Otros\n",
       "No    82192\n",
       "Name: count, dtype: int64"
      ]
     },
     "execution_count": 116,
     "metadata": {},
     "output_type": "execute_result"
    }
   ],
   "source": [
    "discrepancias_otros.loc[:,['Afiliado_Id','Num_Fam_Primer_Grado_Otros', 'Num_Fam_Segundo_Grado_Otros',\n",
    "       'Ind_Ant_Fam_Otros' , 'Total_Fam_Otros', 'Ind_Ant_Fam_Otros_Esperado',\n",
    "       'Discrepancia_Otros']].Ind_Ant_Fam_Otros.value_counts()"
   ]
  },
  {
   "cell_type": "markdown",
   "metadata": {},
   "source": [
    "Dado que todos los valores donde hay discrepancia con la variable original son \"No\", se decide eliminar la variable Ind_Ant_Fam_Otros y reemplazarla por la variable nueva llamada Ind_Ant_Fam_Otros_Esperado"
   ]
  },
  {
   "cell_type": "markdown",
   "metadata": {},
   "source": [
    "Se repite el mismo proceso para la variable de CA Mama"
   ]
  },
  {
   "cell_type": "code",
   "execution_count": 117,
   "metadata": {},
   "outputs": [
    {
     "name": "stderr",
     "output_type": "stream",
     "text": [
      "C:\\Users\\camil\\AppData\\Local\\Temp\\ipykernel_23836\\1464193687.py:2: SettingWithCopyWarning: \n",
      "A value is trying to be set on a copy of a slice from a DataFrame.\n",
      "Try using .loc[row_indexer,col_indexer] = value instead\n",
      "\n",
      "See the caveats in the documentation: https://pandas.pydata.org/pandas-docs/stable/user_guide/indexing.html#returning-a-view-versus-a-copy\n",
      "  data_raw['Total_Fam_CAM'] = data_raw['Num_Fam_Primer_Grado_CAM'].fillna(0) + data_raw['Num_Fam_Segundo_Grado_CAM'].fillna(0)\n",
      "C:\\Users\\camil\\AppData\\Local\\Temp\\ipykernel_23836\\1464193687.py:5: SettingWithCopyWarning: \n",
      "A value is trying to be set on a copy of a slice from a DataFrame.\n",
      "Try using .loc[row_indexer,col_indexer] = value instead\n",
      "\n",
      "See the caveats in the documentation: https://pandas.pydata.org/pandas-docs/stable/user_guide/indexing.html#returning-a-view-versus-a-copy\n",
      "  data_raw['Ind_Ant_Fam_CAM_Esperado'] = data_raw['Total_Fam_CAM'].apply(lambda x: 'Si' if x > 0 else 'No')\n"
     ]
    }
   ],
   "source": [
    "# Calcular el total de familiares con otros cánceres\n",
    "data_raw['Total_Fam_CAM'] = data_raw['Num_Fam_Primer_Grado_CAM'].fillna(0) + data_raw['Num_Fam_Segundo_Grado_CAM'].fillna(0)\n",
    "\n",
    "# Generar el indicador esperado: 1 si Total_Fam_Otros > 0, 0 si no\n",
    "data_raw['Ind_Ant_Fam_CAM_Esperado'] = data_raw['Total_Fam_CAM'].apply(lambda x: 'Si' if x > 0 else 'No')"
   ]
  },
  {
   "cell_type": "code",
   "execution_count": 119,
   "metadata": {},
   "outputs": [
    {
     "name": "stdout",
     "output_type": "stream",
     "text": [
      "Número de registros con discrepancias en 'Ind_Ant_Fam_CAM': 0\n"
     ]
    },
    {
     "name": "stderr",
     "output_type": "stream",
     "text": [
      "C:\\Users\\camil\\AppData\\Local\\Temp\\ipykernel_23836\\728502979.py:2: SettingWithCopyWarning: \n",
      "A value is trying to be set on a copy of a slice from a DataFrame.\n",
      "Try using .loc[row_indexer,col_indexer] = value instead\n",
      "\n",
      "See the caveats in the documentation: https://pandas.pydata.org/pandas-docs/stable/user_guide/indexing.html#returning-a-view-versus-a-copy\n",
      "  data_raw['Discrepancia_CAM'] = data_raw['Ind_Ant_Fam_CAM'] != data_raw['Ind_Ant_Fam_CAM_Esperado']\n"
     ]
    }
   ],
   "source": [
    "# Crear una columna que indique si hay discrepancia\n",
    "data_raw['Discrepancia_CAM'] = data_raw['Ind_Ant_Fam_CAM'] != data_raw['Ind_Ant_Fam_CAM_Esperado']\n",
    "\n",
    "# Identificar registros con discrepancias\n",
    "discrepancias_CAM = data_raw[data_raw['Discrepancia_CAM'] == True]\n",
    "\n",
    "print(f\"Número de registros con discrepancias en 'Ind_Ant_Fam_CAM': {len(discrepancias_CAM)}\")"
   ]
  },
  {
   "cell_type": "markdown",
   "metadata": {},
   "source": [
    "No se encontraron discrepancias en esta variable."
   ]
  },
  {
   "cell_type": "code",
   "execution_count": 120,
   "metadata": {},
   "outputs": [
    {
     "data": {
      "text/plain": [
       "Index(['Afiliado_Id', 'Ind_Frecuencia_Licor', 'Sexo_Cd', 'Raza_Desc',\n",
       "       'Valor_IMC', 'Num_Edad_Menopausia', 'Num_Edad_Menarca',\n",
       "       'Ind_Terapia_Hormonal', 'Num_Birads', 'Ind_Ooforectomia_Bilateral',\n",
       "       'Num_Fam_Primer_Grado_Otros', 'Num_Fam_Segundo_Grado_Otros',\n",
       "       'Ind_Ant_Fam_Otros', 'Num_Fam_Primer_Grado_CAM',\n",
       "       'Num_Fam_Segundo_Grado_CAM', 'Ind_Ant_Fam_CAM', 'Ind_Ant_Radio_Torax',\n",
       "       'Edad', 'Ind_CAM', 'Total_Fam_Otros', 'Ind_Ant_Fam_Otros_Esperado',\n",
       "       'Discrepancia_Otros', 'Total_Fam_CAM', 'Ind_Ant_Fam_CAM_Esperado',\n",
       "       'Discrepancia_CAM'],\n",
       "      dtype='object')"
      ]
     },
     "execution_count": 120,
     "metadata": {},
     "output_type": "execute_result"
    }
   ],
   "source": [
    "data_raw.columns"
   ]
  },
  {
   "cell_type": "code",
   "execution_count": 122,
   "metadata": {},
   "outputs": [],
   "source": [
    "# Eliminar columnas temporales\n",
    "columnas_eliminar = ['Ind_Ant_Fam_Otros', 'Total_Fam_Otros', 'Discrepancia_Otros',\n",
    "                      'Total_Fam_CAM', 'Ind_Ant_Fam_CAM_Esperado', 'Discrepancia_CAM'\n",
    "                      ]\n",
    "\n",
    "data_raw = data_raw.drop(columnas_eliminar, axis=1)"
   ]
  },
  {
   "cell_type": "code",
   "execution_count": 123,
   "metadata": {},
   "outputs": [
    {
     "data": {
      "text/html": [
       "<div>\n",
       "<style scoped>\n",
       "    .dataframe tbody tr th:only-of-type {\n",
       "        vertical-align: middle;\n",
       "    }\n",
       "\n",
       "    .dataframe tbody tr th {\n",
       "        vertical-align: top;\n",
       "    }\n",
       "\n",
       "    .dataframe thead th {\n",
       "        text-align: right;\n",
       "    }\n",
       "</style>\n",
       "<table border=\"1\" class=\"dataframe\">\n",
       "  <thead>\n",
       "    <tr style=\"text-align: right;\">\n",
       "      <th></th>\n",
       "      <th>Afiliado_Id</th>\n",
       "      <th>Ind_Frecuencia_Licor</th>\n",
       "      <th>Sexo_Cd</th>\n",
       "      <th>Raza_Desc</th>\n",
       "      <th>Valor_IMC</th>\n",
       "      <th>Num_Edad_Menopausia</th>\n",
       "      <th>Num_Edad_Menarca</th>\n",
       "      <th>Ind_Terapia_Hormonal</th>\n",
       "      <th>Num_Birads</th>\n",
       "      <th>Ind_Ooforectomia_Bilateral</th>\n",
       "      <th>Num_Fam_Primer_Grado_Otros</th>\n",
       "      <th>Num_Fam_Segundo_Grado_Otros</th>\n",
       "      <th>Num_Fam_Primer_Grado_CAM</th>\n",
       "      <th>Num_Fam_Segundo_Grado_CAM</th>\n",
       "      <th>Ind_Ant_Fam_CAM</th>\n",
       "      <th>Ind_Ant_Radio_Torax</th>\n",
       "      <th>Edad</th>\n",
       "      <th>Ind_CAM</th>\n",
       "      <th>Ind_Ant_Fam_Otros_Esperado</th>\n",
       "    </tr>\n",
       "  </thead>\n",
       "  <tbody>\n",
       "    <tr>\n",
       "      <th>0</th>\n",
       "      <td>6915312</td>\n",
       "      <td>None</td>\n",
       "      <td>F</td>\n",
       "      <td>NaN</td>\n",
       "      <td>29.010000</td>\n",
       "      <td>NaN</td>\n",
       "      <td>13.000000</td>\n",
       "      <td>No</td>\n",
       "      <td>NaN</td>\n",
       "      <td>No</td>\n",
       "      <td>0</td>\n",
       "      <td>0</td>\n",
       "      <td>0</td>\n",
       "      <td>0</td>\n",
       "      <td>No</td>\n",
       "      <td>No</td>\n",
       "      <td>34</td>\n",
       "      <td>No</td>\n",
       "      <td>No</td>\n",
       "    </tr>\n",
       "    <tr>\n",
       "      <th>1</th>\n",
       "      <td>1520483</td>\n",
       "      <td>None</td>\n",
       "      <td>F</td>\n",
       "      <td>MESTIZO</td>\n",
       "      <td>NaN</td>\n",
       "      <td>NaN</td>\n",
       "      <td>14.000000</td>\n",
       "      <td>No</td>\n",
       "      <td>NaN</td>\n",
       "      <td>No</td>\n",
       "      <td>0</td>\n",
       "      <td>0</td>\n",
       "      <td>0</td>\n",
       "      <td>0</td>\n",
       "      <td>No</td>\n",
       "      <td>No</td>\n",
       "      <td>40</td>\n",
       "      <td>No</td>\n",
       "      <td>No</td>\n",
       "    </tr>\n",
       "    <tr>\n",
       "      <th>2</th>\n",
       "      <td>10964151</td>\n",
       "      <td>Si</td>\n",
       "      <td>F</td>\n",
       "      <td>NaN</td>\n",
       "      <td>33.010000</td>\n",
       "      <td>NaN</td>\n",
       "      <td>NaN</td>\n",
       "      <td>No</td>\n",
       "      <td>NaN</td>\n",
       "      <td>No</td>\n",
       "      <td>0</td>\n",
       "      <td>0</td>\n",
       "      <td>0</td>\n",
       "      <td>0</td>\n",
       "      <td>No</td>\n",
       "      <td>Si</td>\n",
       "      <td>41</td>\n",
       "      <td>No</td>\n",
       "      <td>No</td>\n",
       "    </tr>\n",
       "    <tr>\n",
       "      <th>3</th>\n",
       "      <td>10814984</td>\n",
       "      <td>No</td>\n",
       "      <td>F</td>\n",
       "      <td>NaN</td>\n",
       "      <td>23.340000</td>\n",
       "      <td>NaN</td>\n",
       "      <td>NaN</td>\n",
       "      <td>No</td>\n",
       "      <td>NaN</td>\n",
       "      <td>No</td>\n",
       "      <td>0</td>\n",
       "      <td>0</td>\n",
       "      <td>0</td>\n",
       "      <td>0</td>\n",
       "      <td>No</td>\n",
       "      <td>No</td>\n",
       "      <td>25</td>\n",
       "      <td>No</td>\n",
       "      <td>No</td>\n",
       "    </tr>\n",
       "    <tr>\n",
       "      <th>4</th>\n",
       "      <td>1301025</td>\n",
       "      <td>No</td>\n",
       "      <td>F</td>\n",
       "      <td>MESTIZO</td>\n",
       "      <td>24.670000</td>\n",
       "      <td>NaN</td>\n",
       "      <td>9.000000</td>\n",
       "      <td>No</td>\n",
       "      <td>1</td>\n",
       "      <td>No</td>\n",
       "      <td>0</td>\n",
       "      <td>0</td>\n",
       "      <td>0</td>\n",
       "      <td>0</td>\n",
       "      <td>No</td>\n",
       "      <td>No</td>\n",
       "      <td>61</td>\n",
       "      <td>No</td>\n",
       "      <td>No</td>\n",
       "    </tr>\n",
       "    <tr>\n",
       "      <th>...</th>\n",
       "      <td>...</td>\n",
       "      <td>...</td>\n",
       "      <td>...</td>\n",
       "      <td>...</td>\n",
       "      <td>...</td>\n",
       "      <td>...</td>\n",
       "      <td>...</td>\n",
       "      <td>...</td>\n",
       "      <td>...</td>\n",
       "      <td>...</td>\n",
       "      <td>...</td>\n",
       "      <td>...</td>\n",
       "      <td>...</td>\n",
       "      <td>...</td>\n",
       "      <td>...</td>\n",
       "      <td>...</td>\n",
       "      <td>...</td>\n",
       "      <td>...</td>\n",
       "      <td>...</td>\n",
       "    </tr>\n",
       "    <tr>\n",
       "      <th>2190274</th>\n",
       "      <td>278615</td>\n",
       "      <td>Si</td>\n",
       "      <td>F</td>\n",
       "      <td>NaN</td>\n",
       "      <td>24.767566</td>\n",
       "      <td>NaN</td>\n",
       "      <td>NaN</td>\n",
       "      <td>No</td>\n",
       "      <td>NaN</td>\n",
       "      <td>No</td>\n",
       "      <td>0</td>\n",
       "      <td>0</td>\n",
       "      <td>0</td>\n",
       "      <td>0</td>\n",
       "      <td>No</td>\n",
       "      <td>No</td>\n",
       "      <td>22</td>\n",
       "      <td>No</td>\n",
       "      <td>No</td>\n",
       "    </tr>\n",
       "    <tr>\n",
       "      <th>2190275</th>\n",
       "      <td>6455230</td>\n",
       "      <td>No</td>\n",
       "      <td>F</td>\n",
       "      <td>MESTIZO</td>\n",
       "      <td>29.300000</td>\n",
       "      <td>NaN</td>\n",
       "      <td>NaN</td>\n",
       "      <td>No</td>\n",
       "      <td>1</td>\n",
       "      <td>No</td>\n",
       "      <td>0</td>\n",
       "      <td>0</td>\n",
       "      <td>0</td>\n",
       "      <td>0</td>\n",
       "      <td>No</td>\n",
       "      <td>No</td>\n",
       "      <td>28</td>\n",
       "      <td>No</td>\n",
       "      <td>No</td>\n",
       "    </tr>\n",
       "    <tr>\n",
       "      <th>2190276</th>\n",
       "      <td>1274761</td>\n",
       "      <td>No</td>\n",
       "      <td>F</td>\n",
       "      <td>MESTIZO</td>\n",
       "      <td>24.300734</td>\n",
       "      <td>NaN</td>\n",
       "      <td>12.000000</td>\n",
       "      <td>No</td>\n",
       "      <td>1</td>\n",
       "      <td>No</td>\n",
       "      <td>1</td>\n",
       "      <td>1</td>\n",
       "      <td>0</td>\n",
       "      <td>0</td>\n",
       "      <td>No</td>\n",
       "      <td>Si</td>\n",
       "      <td>70</td>\n",
       "      <td>No</td>\n",
       "      <td>Si</td>\n",
       "    </tr>\n",
       "    <tr>\n",
       "      <th>2190277</th>\n",
       "      <td>4612105</td>\n",
       "      <td>No</td>\n",
       "      <td>F</td>\n",
       "      <td>MESTIZO</td>\n",
       "      <td>NaN</td>\n",
       "      <td>NaN</td>\n",
       "      <td>12.000000</td>\n",
       "      <td>No</td>\n",
       "      <td>NaN</td>\n",
       "      <td>No</td>\n",
       "      <td>0</td>\n",
       "      <td>0</td>\n",
       "      <td>0</td>\n",
       "      <td>0</td>\n",
       "      <td>No</td>\n",
       "      <td>Si</td>\n",
       "      <td>38</td>\n",
       "      <td>No</td>\n",
       "      <td>No</td>\n",
       "    </tr>\n",
       "    <tr>\n",
       "      <th>2190278</th>\n",
       "      <td>1423928</td>\n",
       "      <td>None</td>\n",
       "      <td>F</td>\n",
       "      <td>NaN</td>\n",
       "      <td>27.343750</td>\n",
       "      <td>NaN</td>\n",
       "      <td>12.000000</td>\n",
       "      <td>No</td>\n",
       "      <td>2</td>\n",
       "      <td>No</td>\n",
       "      <td>0</td>\n",
       "      <td>0</td>\n",
       "      <td>0</td>\n",
       "      <td>0</td>\n",
       "      <td>No</td>\n",
       "      <td>No</td>\n",
       "      <td>39</td>\n",
       "      <td>No</td>\n",
       "      <td>No</td>\n",
       "    </tr>\n",
       "  </tbody>\n",
       "</table>\n",
       "<p>2190210 rows × 19 columns</p>\n",
       "</div>"
      ],
      "text/plain": [
       "         Afiliado_Id Ind_Frecuencia_Licor Sexo_Cd Raza_Desc  Valor_IMC  \\\n",
       "0            6915312                 None       F       NaN  29.010000   \n",
       "1            1520483                 None       F   MESTIZO        NaN   \n",
       "2           10964151                   Si       F       NaN  33.010000   \n",
       "3           10814984                   No       F       NaN  23.340000   \n",
       "4            1301025                   No       F   MESTIZO  24.670000   \n",
       "...              ...                  ...     ...       ...        ...   \n",
       "2190274       278615                   Si       F       NaN  24.767566   \n",
       "2190275      6455230                   No       F   MESTIZO  29.300000   \n",
       "2190276      1274761                   No       F   MESTIZO  24.300734   \n",
       "2190277      4612105                   No       F   MESTIZO        NaN   \n",
       "2190278      1423928                 None       F       NaN  27.343750   \n",
       "\n",
       "         Num_Edad_Menopausia  Num_Edad_Menarca Ind_Terapia_Hormonal  \\\n",
       "0                        NaN         13.000000                   No   \n",
       "1                        NaN         14.000000                   No   \n",
       "2                        NaN               NaN                   No   \n",
       "3                        NaN               NaN                   No   \n",
       "4                        NaN          9.000000                   No   \n",
       "...                      ...               ...                  ...   \n",
       "2190274                  NaN               NaN                   No   \n",
       "2190275                  NaN               NaN                   No   \n",
       "2190276                  NaN         12.000000                   No   \n",
       "2190277                  NaN         12.000000                   No   \n",
       "2190278                  NaN         12.000000                   No   \n",
       "\n",
       "        Num_Birads Ind_Ooforectomia_Bilateral  Num_Fam_Primer_Grado_Otros  \\\n",
       "0              NaN                         No                           0   \n",
       "1              NaN                         No                           0   \n",
       "2              NaN                         No                           0   \n",
       "3              NaN                         No                           0   \n",
       "4                1                         No                           0   \n",
       "...            ...                        ...                         ...   \n",
       "2190274        NaN                         No                           0   \n",
       "2190275          1                         No                           0   \n",
       "2190276          1                         No                           1   \n",
       "2190277        NaN                         No                           0   \n",
       "2190278          2                         No                           0   \n",
       "\n",
       "         Num_Fam_Segundo_Grado_Otros  Num_Fam_Primer_Grado_CAM  \\\n",
       "0                                  0                         0   \n",
       "1                                  0                         0   \n",
       "2                                  0                         0   \n",
       "3                                  0                         0   \n",
       "4                                  0                         0   \n",
       "...                              ...                       ...   \n",
       "2190274                            0                         0   \n",
       "2190275                            0                         0   \n",
       "2190276                            1                         0   \n",
       "2190277                            0                         0   \n",
       "2190278                            0                         0   \n",
       "\n",
       "         Num_Fam_Segundo_Grado_CAM Ind_Ant_Fam_CAM Ind_Ant_Radio_Torax  Edad  \\\n",
       "0                                0              No                  No    34   \n",
       "1                                0              No                  No    40   \n",
       "2                                0              No                  Si    41   \n",
       "3                                0              No                  No    25   \n",
       "4                                0              No                  No    61   \n",
       "...                            ...             ...                 ...   ...   \n",
       "2190274                          0              No                  No    22   \n",
       "2190275                          0              No                  No    28   \n",
       "2190276                          0              No                  Si    70   \n",
       "2190277                          0              No                  Si    38   \n",
       "2190278                          0              No                  No    39   \n",
       "\n",
       "        Ind_CAM Ind_Ant_Fam_Otros_Esperado  \n",
       "0            No                         No  \n",
       "1            No                         No  \n",
       "2            No                         No  \n",
       "3            No                         No  \n",
       "4            No                         No  \n",
       "...         ...                        ...  \n",
       "2190274      No                         No  \n",
       "2190275      No                         No  \n",
       "2190276      No                         Si  \n",
       "2190277      No                         No  \n",
       "2190278      No                         No  \n",
       "\n",
       "[2190210 rows x 19 columns]"
      ]
     },
     "execution_count": 123,
     "metadata": {},
     "output_type": "execute_result"
    }
   ],
   "source": [
    "data_raw"
   ]
  },
  {
   "cell_type": "markdown",
   "metadata": {},
   "source": [
    "# Preparación de los datos"
   ]
  }
 ],
 "metadata": {
  "colab": {
   "provenance": []
  },
  "kernelspec": {
   "display_name": "Python 3",
   "name": "python3"
  },
  "language_info": {
   "codemirror_mode": {
    "name": "ipython",
    "version": 3
   },
   "file_extension": ".py",
   "mimetype": "text/x-python",
   "name": "python",
   "nbconvert_exporter": "python",
   "pygments_lexer": "ipython3",
   "version": "3.9.20"
  }
 },
 "nbformat": 4,
 "nbformat_minor": 0
}
